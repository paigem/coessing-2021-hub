{
 "cells": [
  {
   "cell_type": "markdown",
   "metadata": {},
   "source": [
    "# Example calculations with scalar quantities: sea surface height\n",
    "\n",
    "## Objectives\n",
    "\n",
    "To demonstrate basic calculations using scalar fields (e.g., SSH, T, S) from the state estimate including: time series of mean quantities, spatial patterns of mean quantities, and spatial patterns of linear trends.\n",
    "\n",
    "## Introduction\n",
    "\n",
    "We will demonstrate global calculations with SSH (global mean sea level time series, mean dynamic topography, global mean sea level trend)."
   ]
  },
  {
   "cell_type": "code",
   "execution_count": null,
   "metadata": {},
   "outputs": [],
   "source": [
    "# Uncomment the line below \"pip install ecco_v4_py\" (by deleting the \"#\") if you need to install ecco_v4_py (see blue note below)\n",
    "# Note that a lot of lines of text will appear when you run this - just wait until it is done and you see a line near the end that says \"Successfully installed\".\n",
    "#pip install ecco_v4_py"
   ]
  },
  {
   "cell_type": "code",
   "execution_count": null,
   "metadata": {},
   "outputs": [],
   "source": [
    "import numpy as np # numerical python\n",
    "import xarray as xr # for handling multi-dimensional arrays\n",
    "import matplotlib.pyplot as plt # for plotting\n",
    "import ecco_v4_py as ecco # for ECCO analysis and plotting\n",
    "\n",
    "import warnings \n",
    "warnings.filterwarnings('ignore') # to remove warning messages"
   ]
  },
  {
   "cell_type": "markdown",
   "metadata": {},
   "source": [
    "<div class=\"alert alert-block alert-info\">\n",
    "<b>Note:</b> If you get an error that the package `ecco_v4_py` could not be found, then uncomment the line above the import statement to install the package via `pip install ecco_v4_py`. That line needs to be run each time you log back into the Hub.</div>"
   ]
  },
  {
   "cell_type": "markdown",
   "metadata": {},
   "source": [
    "# Load dataset from cloud"
   ]
  },
  {
   "cell_type": "markdown",
   "metadata": {},
   "source": [
    "Load the ECCO version 4 data from the cloud. The code to load this dataset from the cloud can be found in the [Pangeo Data Catalog](https://catalog.pangeo.io/browse/master/)."
   ]
  },
  {
   "cell_type": "code",
   "execution_count": null,
   "metadata": {},
   "outputs": [],
   "source": [
    "import intake\n",
    "cat = intake.open_catalog(\"https://raw.githubusercontent.com/pangeo-data/pangeo-datastore/master/intake-catalogs/ocean.yaml\")\n",
    "ecco_monthly_ds = cat.ECCOv4r3.to_dask()\n",
    "ecco_monthly_ds"
   ]
  },
  {
   "cell_type": "markdown",
   "metadata": {},
   "source": [
    "Let's say that we are only intereted in the time frame from 1993-2015 (so cutting off the first year). We do this by using xarray's `.sel()` function."
   ]
  },
  {
   "cell_type": "code",
   "execution_count": null,
   "metadata": {},
   "outputs": [],
   "source": [
    "ecco_monthly_ds = ecco_monthly_ds.sel(time=slice('1993','2018'),time_snp=slice('1993','2015')) # select years 1993-2018\n",
    "ecco_monthly_ds"
   ]
  },
  {
   "cell_type": "markdown",
   "metadata": {},
   "source": [
    "Rename the coordinate and dimension from `face` (name on cloud dataset) to `tile` (name expected in `ecco_v4_py`)."
   ]
  },
  {
   "cell_type": "code",
   "execution_count": null,
   "metadata": {},
   "outputs": [],
   "source": [
    "ecco_monthly_ds = ecco_monthly_ds.rename({'face':'tile'})\n",
    "ecco_monthly_ds"
   ]
  },
  {
   "cell_type": "markdown",
   "metadata": {},
   "source": [
    "## Sea surface height\n",
    "\n",
    "### Global mean sea level\n",
    "\n",
    "Global mean sea surface height at time $t$ is defined as follows:\n",
    "\n",
    "$$SSH_{\\text{global mean}}(t) = \\frac{\\sum_{i} SSH(i,t) \\,\\, A(i)}{A_{\\text{global ocean}}}$$\n",
    "\n",
    "$$A_{\\text{global ocean}} = \\sum_{i} A(i)$$\n",
    "\n",
    "Where $SSH(i,t)$ is dynamic height at model grid cell $i$ and time $t$, $A(i)$ is the area (m^2) of model grid cell $i$\n",
    "\n",
    "#### Part 1: $A_{\\text{global ocean}}$\n",
    "\n",
    "Let's start on the simplest quantity, the global ocean surface area $A_{\\text{global ocean}}$.  Our calculation uses *SSH* which is a 'c' point variable.  The surface area of tracer grid cells is provided by the model grid parameter *rA*.  *rA* is a two-dimensional field that is defined over all model grid points, including land.  \n",
    "\n",
    "To calculate the total ocean surface area we need to ignore the area contributions from land. \n",
    "\n",
    "We will first construct a 3D mask that is True for model grid cells that are wet and False for model grid cells that are dry cells.  "
   ]
  },
  {
   "cell_type": "code",
   "execution_count": null,
   "metadata": {},
   "outputs": [],
   "source": [
    "# ocean_mask is ceiling of hFacC which is 0 for 100% dry cells and\n",
    "# 0 > hFacC >= 1 for grid cells that are at least partially wet\n",
    "\n",
    "# hFacC is the fraction of the thickness (h) of the grid cell which\n",
    "# is wet.  we'll consider all hFacC > 0 as being a wet grid cell\n",
    "# and so we use .where() to set all hFacC values that are not > 0 to NaN\n",
    "\n",
    "# make mask of all points that are (at least some fraction) wet\n",
    "ocean_mask = ecco_monthly_ds.hFacC.isel(k=0).where(ecco_monthly_ds.hFacC.isel(k=0)>0) # take only the surface layer (k=0)\n",
    "ocean_mask"
   ]
  },
  {
   "cell_type": "code",
   "execution_count": null,
   "metadata": {},
   "outputs": [],
   "source": [
    "plt.figure(figsize=(12,5), dpi= 90)\n",
    "\n",
    "ecco.plot_tiles(ocean_mask,layout='latlon', rotate_to_latlon=True)\n",
    "\n",
    "# select out the model depth at surface, round the number and convert to string.\n",
    "z = str((np.round(ecco_monthly_ds.Z.values[0])))\n",
    "plt.suptitle('Wet (1) /dry (0) mask for k=' + str(0) + ',   z=' + z + 'm')"
   ]
  },
  {
   "cell_type": "markdown",
   "metadata": {},
   "source": [
    "To calculate $A_{\\text{global ocean}}$ we must apply the surface wet/dry mask to $rA$.  "
   ]
  },
  {
   "cell_type": "code",
   "execution_count": null,
   "metadata": {},
   "outputs": [],
   "source": [
    "# Multiply rA by the ocean mask. Since we only want ocean area, we only need the top k level of ocean_mask.\n",
    "total_ocean_area = (ecco_monthly_ds.rA*ocean_mask).sum()\n",
    " \n",
    "# Three alternative ways of printing the result\n",
    "print ('total ocean surface area ( m^2) %d  ' % total_ocean_area.values)\n",
    "print ('total ocean surface area (km^2) %d ' % (total_ocean_area.values/1.0e6))\n",
    "print ('total ocean surface area (km^2) %.2E' % (total_ocean_area.values/1.0e6)) # scientific notation with 2 decimal points"
   ]
  },
  {
   "cell_type": "markdown",
   "metadata": {},
   "source": [
    "This compares favorably with [*Global surface area of Earth's Oceans*](https://hypertextbook.com/facts/1997/EricCheng.shtml) : approx 3.60 x $10^8$ $km^2$\n",
    "\n",
    "##### Multiplication of DataArrays\n",
    "You probably noticed that the multiplication of grid cell area with the land mask was done element by element.  One useful feature of `DataArrays` is that their dimensions are automatically lined up when doing binary operations.  Also, because *rA* and *ocean_mask* are both `DataArrays`, their inner product and their sums are also `DataArrays`.  \n",
    "\n",
    "> Note: *ocean_mask* has a depth (**k**) dimension while *rA* does not (horizontal model grid cell area does not change as a function of depth in ECCOv4).  As a result, when *rA* is multiplied with *ocean_mask*, `xarray` **broadcasts** *rA* to all **k** levels.  The resulting matrix  inherits the **k** dimension from *ocean_mask*."
   ]
  },
  {
   "cell_type": "markdown",
   "metadata": {},
   "source": [
    "#### Part2 : $SSH_{\\text{global mean}}(t)$\n",
    "\n",
    "The global mean *SSH* at each $t$ is given by,\n",
    "\n",
    "$$SSH_{\\text{global mean}}(t) = \\frac{\\sum_{i} SSH(i,t) \\,\\, A(i)}{A_{\\text{global ocean}}}$$\n",
    "\n",
    "One way of calculating this is to take advantage of `DataArray` coordinate labels and use its *.sum()* functionality to explicitly specify which dimensions to sum over:"
   ]
  },
  {
   "cell_type": "code",
   "execution_count": null,
   "metadata": {},
   "outputs": [],
   "source": [
    "# Multiply sea surface height (\"ETAN\") by the area of each grid cell (rA), sum together, and divide by total area of ocean\n",
    "SSH_global_mean = (ecco_monthly_ds.ETAN*ecco_monthly_ds.rA).sum(dim=['i','j','tile'])/total_ocean_area"
   ]
  },
  {
   "cell_type": "code",
   "execution_count": null,
   "metadata": {},
   "outputs": [],
   "source": [
    "# add helpful unit label\n",
    "SSH_global_mean.attrs['units']='m'"
   ]
  },
  {
   "cell_type": "code",
   "execution_count": null,
   "metadata": {},
   "outputs": [],
   "source": [
    "# and plot for fun\n",
    "SSH_global_mean.plot(color='k')\n",
    "plt.grid()"
   ]
  },
  {
   "cell_type": "markdown",
   "metadata": {},
   "source": [
    "The resulting $SSH_{global-mean}$ `DataArray` has a single dimension, time.\n",
    "\n",
    "#### Part 3 : Plotting the global mean sea level time series:\n",
    "\n",
    "Let's remove the time-mean og the global mean sea level to make it global mean sea level anomaly (the absolute value has no meaning here anyway)."
   ]
  },
  {
   "cell_type": "code",
   "execution_count": null,
   "metadata": {},
   "outputs": [],
   "source": [
    "plt.figure(figsize=(8,4), dpi= 90)\n",
    "\n",
    "# Method 1: .mean() method of `DataArrays`\n",
    "SSH_global_mean_anomaly = SSH_global_mean - SSH_global_mean.mean()\n",
    "\n",
    "# Method 2: numpy's `mean` method. This is just to demonstrate that we could do the same calculation using numpy, instead of xarray.\n",
    "#SSH_global_mean_anomaly = SSH_global_mean - np.mean(SSH_global_mean)\n",
    "\n",
    "SSH_global_mean_anomaly.plot()\n",
    "plt.grid()\n",
    "plt.title('ECCO v4r3 Global Mean Sea Level Anomaly');\n",
    "plt.ylabel('m');\n",
    "plt.xlabel('year');"
   ]
  },
  {
   "cell_type": "markdown",
   "metadata": {},
   "source": [
    "### Mean Dynamic Topography\n",
    "\n",
    "Mean dynamic topography (MDT) is \"the difference between the time-averaged sea surface and the geoid (the equipotential surface of the Earth's gravity field that best fits the mean sea surface)\" [according to NASA](https://grace.jpl.nasa.gov/data/get-data/dynamic-ocean-typography/). MDT is useful in ocean science, as it can be used to compute ocean circulation from satellite data.\n",
    "\n",
    "MDT is calculated as follows,\n",
    "\n",
    "$MDT(i) = \\frac{\\sum_{t} SSH(i,t) - SSH_{\\text{global mean}}(t)}{nt} $\n",
    "\n",
    "Where $nt$ is the number of time records. \n",
    "\n",
    "For *MDT* we preserve the spatial dimensions. Summation and averaging are over the time dimension."
   ]
  },
  {
   "cell_type": "code",
   "execution_count": null,
   "metadata": {},
   "outputs": [],
   "source": [
    "# Calculate MDT according to above equation\n",
    "MDT = (ecco_monthly_ds.ETAN - SSH_global_mean).mean(dim=['time'])\n",
    "MDT"
   ]
  },
  {
   "cell_type": "markdown",
   "metadata": {},
   "source": [
    "As expected, MDT has preserved its spatial dimensions: (time, j, i)"
   ]
  },
  {
   "cell_type": "markdown",
   "metadata": {},
   "source": [
    "Before plotting the MDT field remove its spatial mean since its spatial mean conveys no dynamically useful information.  "
   ]
  },
  {
   "cell_type": "code",
   "execution_count": null,
   "metadata": {},
   "outputs": [],
   "source": [
    "MDT_no_spatial_mean = MDT - MDT*ecco_monthly_ds.rA/total_ocean_area\n",
    "MDT_no_spatial_mean"
   ]
  },
  {
   "cell_type": "code",
   "execution_count": null,
   "metadata": {},
   "outputs": [],
   "source": [
    "%%time\n",
    "plt.figure(figsize=(12,5), dpi= 90)\n",
    "\n",
    "# mask land points to Nan\n",
    "MDT_no_spatial_mean = MDT_no_spatial_mean.where(ocean_mask>0)\n",
    "\n",
    "ecco.plot_proj_to_latlon_grid(ecco_monthly_ds.XC, \\\n",
    "                              ecco_monthly_ds.YC, \\\n",
    "                              MDT_no_spatial_mean, \\\n",
    "                              user_lon_0=0,\\\n",
    "                              plot_type = 'pcolormesh', \\\n",
    "                              show_colorbar=True,\\\n",
    "                              dx=2,dy=2);\n",
    "\n",
    "plt.title('ECCO v4r3 Mean Dynamic Topography [m]');"
   ]
  },
  {
   "cell_type": "markdown",
   "metadata": {},
   "source": [
    "### Spatial variations of sea level linear trends  \n",
    "\n",
    "To calculate the linear trend for each model point we will use on the `polyfit` function of `xarray`.  First, define a time variable in years for SSH."
   ]
  },
  {
   "cell_type": "code",
   "execution_count": null,
   "metadata": {
    "scrolled": true
   },
   "outputs": [],
   "source": [
    "days_since_first_record = ((ecco_monthly_ds.time - ecco_monthly_ds.time[0])/(86400e9)).astype(int).values\n",
    "len(days_since_first_record)"
   ]
  },
  {
   "cell_type": "markdown",
   "metadata": {},
   "source": [
    "Do the linear fit on the time dimension"
   ]
  },
  {
   "cell_type": "code",
   "execution_count": null,
   "metadata": {},
   "outputs": [],
   "source": [
    "ssh_fit = ecco_monthly_ds.ETAN.polyfit(dim='time',deg=1,skipna=True) # 'skipna=True' tells polyfit to skip over NaNs\n",
    "ssh_fit"
   ]
  },
  {
   "cell_type": "markdown",
   "metadata": {},
   "source": [
    "Our time axis was in nanoseconds ($ns$), so our trend line will have a slope in $m/ns$. Let's convert that to $mm/year$."
   ]
  },
  {
   "cell_type": "code",
   "execution_count": null,
   "metadata": {},
   "outputs": [],
   "source": [
    "ssh_trend = ssh_fit.isel(degree=0).polyfit_coefficients * 1e3 * 1e9 * 60 * 60 * 24 * 365 #convert from m/ns to mm/year"
   ]
  },
  {
   "cell_type": "code",
   "execution_count": null,
   "metadata": {},
   "outputs": [],
   "source": [
    "%%time\n",
    "plt.figure(figsize=(12,5), dpi= 90)\n",
    "\n",
    "ecco.plot_proj_to_latlon_grid(ecco_monthly_ds.XC, \\\n",
    "                              ecco_monthly_ds.YC, \\\n",
    "                              ssh_trend, \\\n",
    "                              user_lon_0=-66,\\\n",
    "                              plot_type = 'pcolormesh', \\\n",
    "                              show_colorbar=True,\\\n",
    "                              dx=1, dy=1, cmin=-8, cmax=8)\n",
    "\n",
    "plt.title('ECCO v4r3 Sea Level Trend [mm/yr]');"
   ]
  },
  {
   "cell_type": "markdown",
   "metadata": {},
   "source": [
    "And the mean rate of global sea level change in mm/year over the 1993-2018 period is:"
   ]
  },
  {
   "cell_type": "code",
   "execution_count": null,
   "metadata": {},
   "outputs": [],
   "source": [
    "((ssh_trend.where(ocean_mask>0)*ecco_monthly_ds.rA)/(ecco_monthly_ds.rA*ocean_mask).sum()).sum().values"
   ]
  },
  {
   "cell_type": "code",
   "execution_count": null,
   "metadata": {},
   "outputs": [],
   "source": []
  }
 ],
 "metadata": {
  "interpreter": {
   "hash": "31f2aee4e71d21fbe5cf8b01ff0e069b9275f58929596ceb00d14d90e3e16cd6"
  },
  "kernelspec": {
   "display_name": "Python 3.8.2 64-bit",
   "name": "python3"
  },
  "language_info": {
   "name": "python",
   "version": ""
  },
  "toc": {
   "base_numbering": 1,
   "nav_menu": {},
   "number_sections": false,
   "sideBar": true,
   "skip_h1_title": false,
   "title_cell": "Table of Contents",
   "title_sidebar": "Contents",
   "toc_cell": false,
   "toc_position": {},
   "toc_section_display": true,
   "toc_window_display": false
  }
 },
 "nbformat": 4,
 "nbformat_minor": 4
}